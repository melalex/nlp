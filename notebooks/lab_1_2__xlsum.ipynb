{
 "cells": [
  {
   "cell_type": "markdown",
   "id": "1d1dd89c",
   "metadata": {},
   "source": [
    "# Xlsum Summarization"
   ]
  },
  {
   "cell_type": "markdown",
   "id": "68135a34",
   "metadata": {},
   "source": [
    "1. Import dependencies "
   ]
  },
  {
   "cell_type": "code",
   "execution_count": 1,
   "id": "0f40fc75",
   "metadata": {},
   "outputs": [],
   "source": [
    "import random\n",
    "import torch\n",
    "import numpy as np\n",
    "import pandas as pd\n",
    "import wandb\n",
    "\n",
    "from transformers import (\n",
    "    AutoTokenizer,\n",
    "    AutoModelForSeq2SeqLM,\n",
    "    DataCollatorForSeq2Seq,\n",
    "    Seq2SeqTrainer,\n",
    "    Seq2SeqTrainingArguments,\n",
    "    pipeline,\n",
    ")\n",
    "\n",
    "from src.util.eval import evaluate_summery\n",
    "from src.util.torch_device import resolve_torch_device\n",
    "from src.data.xlsum import load_xlsum\n",
    "from src.metrics.summarization import compute_metrics\n",
    "from src.definitions import MODELS_FOLDER"
   ]
  },
  {
   "cell_type": "markdown",
   "id": "1f767626",
   "metadata": {},
   "source": [
    "2. Init WANB"
   ]
  },
  {
   "cell_type": "code",
   "execution_count": 2,
   "id": "763a5397",
   "metadata": {},
   "outputs": [
    {
     "name": "stderr",
     "output_type": "stream",
     "text": [
      "\u001b[34m\u001b[1mwandb\u001b[0m: Using wandb-core as the SDK backend.  Please refer to https://wandb.me/wandb-core for more information.\n",
      "\u001b[34m\u001b[1mwandb\u001b[0m: Currently logged in as: \u001b[33malexander-melashchenko\u001b[0m (\u001b[33malexander-melashchenko-igor-sikorsky-kyiv-polytechnic-in\u001b[0m) to \u001b[32mhttps://api.wandb.ai\u001b[0m. Use \u001b[1m`wandb login --relogin`\u001b[0m to force relogin\n"
     ]
    },
    {
     "data": {
      "text/plain": [
       "True"
      ]
     },
     "execution_count": 2,
     "metadata": {},
     "output_type": "execute_result"
    }
   ],
   "source": [
    "wandb.login()"
   ]
  },
  {
   "cell_type": "markdown",
   "id": "b378d37b",
   "metadata": {},
   "source": [
    "2. Config"
   ]
  },
  {
   "cell_type": "code",
   "execution_count": 3,
   "id": "2207a4f8",
   "metadata": {},
   "outputs": [],
   "source": [
    "random_seed = 42\n",
    "\n",
    "random.seed(random_seed)\n",
    "torch.manual_seed(random_seed)\n",
    "np.random.seed(random_seed)\n",
    "\n",
    "device = resolve_torch_device()"
   ]
  },
  {
   "cell_type": "code",
   "execution_count": 4,
   "id": "575b4f7d",
   "metadata": {},
   "outputs": [],
   "source": [
    "model_checkpoint = \"facebook/bart-large\"\n",
    "dataset_name = \"csebuetnlp/xlsum\"\n",
    "language = \"english\"\n",
    "batch_size = 4\n",
    "num_train_epochs = 3\n",
    "max_input_length = 512\n",
    "max_target_length = 64\n",
    "train_size = 0.8"
   ]
  },
  {
   "cell_type": "code",
   "execution_count": 5,
   "id": "2c5dcf48",
   "metadata": {},
   "outputs": [],
   "source": [
    "run_name = f\"xlsum-{str(model_checkpoint).split(\"/\")[-1]}\"\n",
    "output_dir = MODELS_FOLDER / f\"{run_name}-checkpoint\"\n",
    "resume_from_checkpoint = None"
   ]
  },
  {
   "cell_type": "code",
   "execution_count": 6,
   "id": "2db5a80c",
   "metadata": {},
   "outputs": [],
   "source": [
    "tokenizer = AutoTokenizer.from_pretrained(model_checkpoint)\n",
    "model = AutoModelForSeq2SeqLM.from_pretrained(model_checkpoint)"
   ]
  },
  {
   "cell_type": "markdown",
   "id": "1484bd98",
   "metadata": {},
   "source": [
    "3. Load dataset"
   ]
  },
  {
   "cell_type": "code",
   "execution_count": 7,
   "id": "1b20e706",
   "metadata": {},
   "outputs": [],
   "source": [
    "ds = load_xlsum(tokenizer, max_input_length, max_target_length, language)"
   ]
  },
  {
   "cell_type": "code",
   "execution_count": 8,
   "id": "360dc59d",
   "metadata": {},
   "outputs": [
    {
     "data": {
      "text/plain": [
       "DatasetDict({\n",
       "    train: Dataset({\n",
       "        features: ['id', 'url', 'title', 'summary', 'text', 'input_ids', 'attention_mask', 'labels'],\n",
       "        num_rows: 306522\n",
       "    })\n",
       "    test: Dataset({\n",
       "        features: ['id', 'url', 'title', 'summary', 'text', 'input_ids', 'attention_mask', 'labels'],\n",
       "        num_rows: 11535\n",
       "    })\n",
       "    validation: Dataset({\n",
       "        features: ['id', 'url', 'title', 'summary', 'text', 'input_ids', 'attention_mask', 'labels'],\n",
       "        num_rows: 11535\n",
       "    })\n",
       "})"
      ]
     },
     "execution_count": 8,
     "metadata": {},
     "output_type": "execute_result"
    }
   ],
   "source": [
    "ds"
   ]
  },
  {
   "cell_type": "markdown",
   "id": "b7e0681b",
   "metadata": {},
   "source": [
    "4. Train"
   ]
  },
  {
   "cell_type": "code",
   "execution_count": 9,
   "id": "b06b4a2c",
   "metadata": {},
   "outputs": [
    {
     "name": "stderr",
     "output_type": "stream",
     "text": [
      "/home/melal/Workspace/nlp/.venv/lib/python3.12/site-packages/transformers/training_args.py:1575: FutureWarning: `evaluation_strategy` is deprecated and will be removed in version 4.46 of 🤗 Transformers. Use `eval_strategy` instead\n",
      "  warnings.warn(\n"
     ]
    }
   ],
   "source": [
    "data_collator = DataCollatorForSeq2Seq(tokenizer, model=model)\n",
    "\n",
    "training_args = Seq2SeqTrainingArguments(\n",
    "    output_dir=output_dir,\n",
    "    evaluation_strategy=\"epoch\",\n",
    "    eval_strategy=\"epoch\",\n",
    "    learning_rate=2e-5,\n",
    "    per_device_train_batch_size=batch_size,\n",
    "    per_device_eval_batch_size=batch_size,\n",
    "    weight_decay=0.01,\n",
    "    save_total_limit=2,\n",
    "    num_train_epochs=num_train_epochs,\n",
    "    predict_with_generate=True,\n",
    "    bf16=True,\n",
    "    logging_dir=\"./logs\",\n",
    "    logging_strategy=\"steps\",\n",
    "    logging_steps=100,\n",
    "    report_to=\"wandb\",\n",
    "    run_name=run_name,\n",
    ")\n",
    "\n",
    "trainer = Seq2SeqTrainer(\n",
    "    model=model,\n",
    "    args=training_args,\n",
    "    train_dataset=ds[\"train\"],\n",
    "    eval_dataset=ds[\"validation\"],\n",
    "    processing_class=tokenizer,\n",
    "    data_collator=data_collator,\n",
    "    compute_metrics=compute_metrics(tokenizer),\n",
    ")"
   ]
  },
  {
   "cell_type": "code",
   "execution_count": 10,
   "id": "5f76b1a7",
   "metadata": {},
   "outputs": [],
   "source": [
    "torch.cuda.empty_cache()"
   ]
  },
  {
   "cell_type": "code",
   "execution_count": null,
   "id": "5876646b",
   "metadata": {},
   "outputs": [],
   "source": [
    "trainer.train(resume_from_checkpoint=resume_from_checkpoint)"
   ]
  },
  {
   "cell_type": "code",
   "execution_count": 11,
   "id": "b6b32784",
   "metadata": {},
   "outputs": [],
   "source": [
    "wandb.finish()"
   ]
  },
  {
   "cell_type": "markdown",
   "id": "c1042ed3",
   "metadata": {},
   "source": [
    "5. Save weights"
   ]
  },
  {
   "cell_type": "code",
   "execution_count": null,
   "id": "a1b803c6",
   "metadata": {},
   "outputs": [],
   "source": [
    "trainer.save_model(MODELS_FOLDER / run_name)\n",
    "tokenizer.save_pretrained(MODELS_FOLDER / run_name)"
   ]
  },
  {
   "cell_type": "markdown",
   "id": "cbde17d4",
   "metadata": {},
   "source": [
    "6. Test model"
   ]
  },
  {
   "cell_type": "code",
   "execution_count": 12,
   "id": "c5bbf55e",
   "metadata": {},
   "outputs": [],
   "source": [
    "model = AutoModelForSeq2SeqLM.from_pretrained(MODELS_FOLDER / run_name)\n",
    "tokenizer = AutoTokenizer.from_pretrained(MODELS_FOLDER / run_name)"
   ]
  },
  {
   "cell_type": "code",
   "execution_count": 13,
   "id": "5408c4fa",
   "metadata": {},
   "outputs": [
    {
     "name": "stderr",
     "output_type": "stream",
     "text": [
      "Device set to use cuda:0\n"
     ]
    }
   ],
   "source": [
    "summarizer = pipeline(\n",
    "    \"summarization\", model=model, tokenizer=tokenizer, truncation=True\n",
    ")"
   ]
  },
  {
   "cell_type": "code",
   "execution_count": 14,
   "id": "e2087cf4",
   "metadata": {},
   "outputs": [
    {
     "name": "stderr",
     "output_type": "stream",
     "text": [
      "  0%|          | 10/11535 [00:02<39:49,  4.82it/s] You seem to be using the pipelines sequentially on GPU. In order to maximize efficiency please use a dataset\n",
      "100%|██████████| 11535/11535 [51:12<00:00,  3.75it/s] \n"
     ]
    },
    {
     "data": {
      "text/plain": [
       "\"Eval result is {'rouge1': np.float64(0.42241299994687187), 'rouge2': np.float64(0.1997336748109491), 'rougeL': np.float64(0.34443485056882484), 'rougeLsum': np.float64(0.34429214309547196), 'precision': np.float64(0.7519556778253391), 'recall': np.float64(0.7309160357178885), 'f1': np.float64(0.7402467150707807)}\""
      ]
     },
     "execution_count": 14,
     "metadata": {},
     "output_type": "execute_result"
    }
   ],
   "source": [
    "tuned_results = evaluate_summery(summarizer, ds, max_target_length, model_checkpoint)\n",
    "\n",
    "f\"Eval result is {tuned_results}\""
   ]
  },
  {
   "cell_type": "markdown",
   "id": "9025c7e2",
   "metadata": {},
   "source": [
    "7. Test default model"
   ]
  },
  {
   "cell_type": "code",
   "execution_count": 15,
   "id": "bfdbd029",
   "metadata": {},
   "outputs": [],
   "source": [
    "model = AutoModelForSeq2SeqLM.from_pretrained(model_checkpoint)\n",
    "tokenizer = AutoTokenizer.from_pretrained(model_checkpoint)"
   ]
  },
  {
   "cell_type": "code",
   "execution_count": 16,
   "id": "c55edb03",
   "metadata": {},
   "outputs": [
    {
     "name": "stderr",
     "output_type": "stream",
     "text": [
      "Device set to use cuda:0\n"
     ]
    }
   ],
   "source": [
    "summarizer = pipeline(\n",
    "    \"summarization\", model=model, tokenizer=tokenizer, truncation=True\n",
    ")"
   ]
  },
  {
   "cell_type": "code",
   "execution_count": 17,
   "id": "18eac54e",
   "metadata": {},
   "outputs": [
    {
     "name": "stderr",
     "output_type": "stream",
     "text": [
      "100%|██████████| 11535/11535 [1:32:45<00:00,  2.07it/s] \n"
     ]
    },
    {
     "data": {
      "text/plain": [
       "\"Eval result is {'rouge1': np.float64(0.19163649934032834), 'rouge2': np.float64(0.028179241294953715), 'rougeL': np.float64(0.12666462023334307), 'rougeLsum': np.float64(0.12666846740620316), 'precision': np.float64(0.5175382759258972), 'recall': np.float64(0.6168560410300322), 'f1': np.float64(0.5623211802498934)}\""
      ]
     },
     "execution_count": 17,
     "metadata": {},
     "output_type": "execute_result"
    }
   ],
   "source": [
    "default_results = evaluate_summery(summarizer, ds, max_target_length, model_checkpoint)\n",
    "\n",
    "f\"Eval result is {default_results}\""
   ]
  },
  {
   "cell_type": "markdown",
   "id": "449b63ab",
   "metadata": {},
   "source": [
    "8. Сomparison table"
   ]
  },
  {
   "cell_type": "code",
   "execution_count": 18,
   "id": "e22560b9",
   "metadata": {},
   "outputs": [
    {
     "data": {
      "text/html": [
       "<div>\n",
       "<style scoped>\n",
       "    .dataframe tbody tr th:only-of-type {\n",
       "        vertical-align: middle;\n",
       "    }\n",
       "\n",
       "    .dataframe tbody tr th {\n",
       "        vertical-align: top;\n",
       "    }\n",
       "\n",
       "    .dataframe thead th {\n",
       "        text-align: right;\n",
       "    }\n",
       "</style>\n",
       "<table border=\"1\" class=\"dataframe\">\n",
       "  <thead>\n",
       "    <tr style=\"text-align: right;\">\n",
       "      <th></th>\n",
       "      <th>eval_name</th>\n",
       "      <th>rouge1</th>\n",
       "      <th>rouge2</th>\n",
       "      <th>rougeL</th>\n",
       "      <th>rougeLsum</th>\n",
       "      <th>precision</th>\n",
       "      <th>recall</th>\n",
       "      <th>f1</th>\n",
       "    </tr>\n",
       "  </thead>\n",
       "  <tbody>\n",
       "    <tr>\n",
       "      <th>0</th>\n",
       "      <td>Default model</td>\n",
       "      <td>0.191636</td>\n",
       "      <td>0.028179</td>\n",
       "      <td>0.126665</td>\n",
       "      <td>0.126668</td>\n",
       "      <td>0.517538</td>\n",
       "      <td>0.616856</td>\n",
       "      <td>0.562321</td>\n",
       "    </tr>\n",
       "    <tr>\n",
       "      <th>1</th>\n",
       "      <td>Tuned model</td>\n",
       "      <td>0.422413</td>\n",
       "      <td>0.199734</td>\n",
       "      <td>0.344435</td>\n",
       "      <td>0.344292</td>\n",
       "      <td>0.751956</td>\n",
       "      <td>0.730916</td>\n",
       "      <td>0.740247</td>\n",
       "    </tr>\n",
       "  </tbody>\n",
       "</table>\n",
       "</div>"
      ],
      "text/plain": [
       "       eval_name    rouge1    rouge2    rougeL  rougeLsum  precision  \\\n",
       "0  Default model  0.191636  0.028179  0.126665   0.126668   0.517538   \n",
       "1    Tuned model  0.422413  0.199734  0.344435   0.344292   0.751956   \n",
       "\n",
       "     recall        f1  \n",
       "0  0.616856  0.562321  \n",
       "1  0.730916  0.740247  "
      ]
     },
     "execution_count": 18,
     "metadata": {},
     "output_type": "execute_result"
    }
   ],
   "source": [
    "tuned_results[\"eval_name\"] = \"Tuned model\"\n",
    "default_results[\"eval_name\"] = \"Default model\"\n",
    "\n",
    "df = pd.DataFrame([default_results, tuned_results])\n",
    "\n",
    "column_order = [\n",
    "    \"eval_name\",\n",
    "    \"rouge1\",\n",
    "    \"rouge2\",\n",
    "    \"rougeL\",\n",
    "    \"rougeLsum\",\n",
    "    \"precision\",\n",
    "    \"recall\",\n",
    "    \"f1\",\n",
    "]\n",
    "\n",
    "df = df[column_order]\n",
    "\n",
    "df.head()"
   ]
  }
 ],
 "metadata": {
  "kernelspec": {
   "display_name": ".venv",
   "language": "python",
   "name": "python3"
  },
  "language_info": {
   "codemirror_mode": {
    "name": "ipython",
    "version": 3
   },
   "file_extension": ".py",
   "mimetype": "text/x-python",
   "name": "python",
   "nbconvert_exporter": "python",
   "pygments_lexer": "ipython3",
   "version": "3.12.3"
  }
 },
 "nbformat": 4,
 "nbformat_minor": 5
}
