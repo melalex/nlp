{
 "cells": [
  {
   "cell_type": "markdown",
   "id": "1d1dd89c",
   "metadata": {},
   "source": [
    "# Xlsum Summarization"
   ]
  },
  {
   "cell_type": "markdown",
   "id": "68135a34",
   "metadata": {},
   "source": [
    "1. Import dependencies "
   ]
  },
  {
   "cell_type": "code",
   "execution_count": null,
   "id": "0f40fc75",
   "metadata": {},
   "outputs": [],
   "source": [
    "import random\n",
    "import torch\n",
    "import numpy as np\n",
    "import wandb\n",
    "\n",
    "from transformers import (\n",
    "    AutoTokenizer,\n",
    "    AutoModelForSeq2SeqLM,\n",
    "    DataCollatorForSeq2Seq,\n",
    "    Seq2SeqTrainer,\n",
    "    Seq2SeqTrainingArguments,\n",
    ")\n",
    "\n",
    "from src.util.torch_device import resolve_torch_device\n",
    "from src.data.xlsum import load_xlsum\n",
    "from src.metrics.summarization import compute_metrics\n",
    "from src.definitions import MODELS_FOLDER"
   ]
  },
  {
   "cell_type": "markdown",
   "id": "1f767626",
   "metadata": {},
   "source": [
    "2. Init WANB"
   ]
  },
  {
   "cell_type": "code",
   "execution_count": null,
   "id": "763a5397",
   "metadata": {},
   "outputs": [],
   "source": [
    "wandb.login()"
   ]
  },
  {
   "cell_type": "markdown",
   "id": "b378d37b",
   "metadata": {},
   "source": [
    "2. Config"
   ]
  },
  {
   "cell_type": "code",
   "execution_count": null,
   "id": "2207a4f8",
   "metadata": {},
   "outputs": [],
   "source": [
    "random_seed = 42\n",
    "\n",
    "random.seed(random_seed)\n",
    "torch.manual_seed(random_seed)\n",
    "np.random.seed(random_seed)\n",
    "\n",
    "device = resolve_torch_device()"
   ]
  },
  {
   "cell_type": "code",
   "execution_count": null,
   "id": "575b4f7d",
   "metadata": {},
   "outputs": [],
   "source": [
    "model_checkpoint = \"facebook/bart-large\"\n",
    "dataset_name = \"csebuetnlp/xlsum\"\n",
    "language = \"english\"\n",
    "batch_size = 4\n",
    "num_train_epochs = 3\n",
    "max_input_length = 512\n",
    "max_target_length = 64\n",
    "train_size = 0.8"
   ]
  },
  {
   "cell_type": "code",
   "execution_count": null,
   "id": "2c5dcf48",
   "metadata": {},
   "outputs": [],
   "source": [
    "run_name = f\"xlsum-{str(model_checkpoint).split(\"/\")[-1]}\""
   ]
  },
  {
   "cell_type": "code",
   "execution_count": null,
   "id": "2db5a80c",
   "metadata": {},
   "outputs": [],
   "source": [
    "tokenizer = AutoTokenizer.from_pretrained(model_checkpoint)\n",
    "model = AutoModelForSeq2SeqLM.from_pretrained(model_checkpoint)"
   ]
  },
  {
   "cell_type": "markdown",
   "id": "1484bd98",
   "metadata": {},
   "source": [
    "3. Load dataset"
   ]
  },
  {
   "cell_type": "code",
   "execution_count": null,
   "id": "1b20e706",
   "metadata": {},
   "outputs": [],
   "source": [
    "ds = load_xlsum(tokenizer, max_input_length, max_target_length, language)"
   ]
  },
  {
   "cell_type": "code",
   "execution_count": null,
   "id": "360dc59d",
   "metadata": {},
   "outputs": [],
   "source": [
    "ds"
   ]
  },
  {
   "cell_type": "markdown",
   "id": "b7e0681b",
   "metadata": {},
   "source": [
    "4. Train"
   ]
  },
  {
   "cell_type": "code",
   "execution_count": null,
   "id": "b06b4a2c",
   "metadata": {},
   "outputs": [],
   "source": [
    "data_collator = DataCollatorForSeq2Seq(tokenizer, model=model)\n",
    "\n",
    "training_args = Seq2SeqTrainingArguments(\n",
    "    output_dir=MODELS_FOLDER / f\"{run_name}-checkpoint\",\n",
    "    evaluation_strategy=\"epoch\",\n",
    "    eval_strategy=\"epoch\",\n",
    "    learning_rate=2e-5,\n",
    "    per_device_train_batch_size=batch_size,\n",
    "    per_device_eval_batch_size=batch_size,\n",
    "    weight_decay=0.01,\n",
    "    save_total_limit=2,\n",
    "    num_train_epochs=num_train_epochs,\n",
    "    predict_with_generate=True,\n",
    "    bf16=True,\n",
    "    logging_dir=\"./logs\",\n",
    "    logging_strategy=\"steps\",\n",
    "    logging_steps=100,\n",
    "    report_to=\"wandb\",\n",
    "    run_name=run_name,\n",
    ")\n",
    "\n",
    "trainer = Seq2SeqTrainer(\n",
    "    model=model,\n",
    "    args=training_args,\n",
    "    train_dataset=ds[\"train\"],\n",
    "    eval_dataset=ds[\"validation\"],\n",
    "    processing_class=tokenizer,\n",
    "    data_collator=data_collator,\n",
    "    compute_metrics=compute_metrics,\n",
    ")"
   ]
  },
  {
   "cell_type": "code",
   "execution_count": null,
   "id": "5876646b",
   "metadata": {},
   "outputs": [],
   "source": [
    "torch.cuda.empty_cache()\n",
    "\n",
    "trainer.train()"
   ]
  },
  {
   "cell_type": "markdown",
   "id": "c1042ed3",
   "metadata": {},
   "source": [
    "5. Save weights"
   ]
  },
  {
   "cell_type": "code",
   "execution_count": null,
   "id": "a1b803c6",
   "metadata": {},
   "outputs": [],
   "source": [
    "trainer.save_model(MODELS_FOLDER / run_name)\n",
    "tokenizer.save_pretrained(MODELS_FOLDER / run_name)"
   ]
  }
 ],
 "metadata": {
  "kernelspec": {
   "display_name": ".venv",
   "language": "python",
   "name": "python3"
  },
  "language_info": {
   "codemirror_mode": {
    "name": "ipython",
    "version": 3
   },
   "file_extension": ".py",
   "mimetype": "text/x-python",
   "name": "python",
   "nbconvert_exporter": "python",
   "pygments_lexer": "ipython3",
   "version": "3.12.3"
  }
 },
 "nbformat": 4,
 "nbformat_minor": 5
}
